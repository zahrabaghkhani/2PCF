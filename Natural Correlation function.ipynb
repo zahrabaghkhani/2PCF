{
 "cells": [
  {
   "cell_type": "markdown",
   "metadata": {},
   "source": [
    "# Natural Correlation Function"
   ]
  },
  {
   "cell_type": "markdown",
   "metadata": {},
   "source": [
    "# $\\xi = \\frac{DD}{RR} - 1$"
   ]
  },
  {
   "cell_type": "markdown",
   "metadata": {},
   "source": [
    "# preparing data"
   ]
  },
  {
   "cell_type": "code",
   "execution_count": 191,
   "metadata": {},
   "outputs": [],
   "source": [
    "gr_13 = data[(data['mass']<13.2)&(data['mass']>12.6)]\n",
    "gr_12 = data[(data['mass']<1.1e12)&(data['mass']>9e11)]"
   ]
  },
  {
   "cell_type": "code",
   "execution_count": 192,
   "metadata": {},
   "outputs": [
    {
     "data": {
      "text/plain": [
       "6436"
      ]
     },
     "execution_count": 192,
     "metadata": {},
     "output_type": "execute_result"
    }
   ],
   "source": [
    "len(gr_12)"
   ]
  },
  {
   "cell_type": "code",
   "execution_count": 193,
   "metadata": {},
   "outputs": [],
   "source": [
    "xyz_13 = gr_13[['x','y','z']]/1000 \n",
    "xyz_12 = gr_12[['x','y','z']]/1000 "
   ]
  },
  {
   "cell_type": "code",
   "execution_count": 194,
   "metadata": {},
   "outputs": [],
   "source": [
    "x13 = xyz_13['x'].values\n",
    "y13 = xyz_13['y'].values\n",
    "z13 = xyz_13['z'].values\n",
    "x12 = xyz_12['x'].values\n",
    "y12 = xyz_12['y'].values\n",
    "z12 = xyz_12['z'].values"
   ]
  },
  {
   "cell_type": "code",
   "execution_count": null,
   "metadata": {},
   "outputs": [],
   "source": []
  },
  {
   "cell_type": "code",
   "execution_count": 195,
   "metadata": {},
   "outputs": [],
   "source": [
    "bins = np.linspace(1,10,10)\n",
    "bincenters = 0.5*(bins[1:]+bins[:-1])"
   ]
  },
  {
   "cell_type": "code",
   "execution_count": 196,
   "metadata": {},
   "outputs": [],
   "source": [
    "def distance(x1,y1,z1,x2,y2,z2):\n",
    "    return (((x2 - x1)**2 + (y2 - y1)**2 + (z2 - z1)**2)**0.5)"
   ]
  },
  {
   "cell_type": "code",
   "execution_count": 197,
   "metadata": {},
   "outputs": [],
   "source": [
    "DD = np.zeros((len(xyz_13),len(xyz_13)),dtype = 'float')\n",
    "RR = np.zeros((len(xyz_13),len(xyz_13)),dtype='float')"
   ]
  },
  {
   "cell_type": "code",
   "execution_count": 198,
   "metadata": {},
   "outputs": [
    {
     "name": "stdout",
     "output_type": "stream",
     "text": [
      "Wall time: 5min 28s\n"
     ]
    }
   ],
   "source": [
    "%%time\n",
    "for i in range(len(xyz_13)):\n",
    "    \n",
    "        \n",
    "    for j in range(len(xyz_13)):\n",
    "        \n",
    "        \n",
    "        DD[i,j]=distance(x13[i],y13[i],z13[i],x13[j],y13[j],z13[j])\n",
    "        \n",
    "xr = np.random.uniform(np.amin(x13),np.amax(x13),len(x13))\n",
    "yr = np.random.uniform(np.amin(y13),np.amax(y13),len(y13))\n",
    "zr = np.random.uniform(np.amin(z13),np.amax(z13),len(z13))\n",
    "\n",
    "for i in range(len(xr)):\n",
    "    \n",
    "        \n",
    "    for j in range(len(xr)):\n",
    "        \n",
    "        \n",
    "        RR[i,j]=distance(xr[i],yr[i],zr[i],xr[j],yr[j],zr[j])\n"
   ]
  },
  {
   "cell_type": "code",
   "execution_count": 199,
   "metadata": {},
   "outputs": [
    {
     "data": {
      "text/plain": [
       "204.81293"
      ]
     },
     "execution_count": 199,
     "metadata": {},
     "output_type": "execute_result"
    }
   ],
   "source": [
    "np.amax(z13)"
   ]
  },
  {
   "cell_type": "code",
   "execution_count": 200,
   "metadata": {},
   "outputs": [],
   "source": [
    "dd = DD[np.triu_indices(len(x13), k = 1)]\n",
    "rr = RR[np.triu_indices(len(x13), k = 1)]"
   ]
  },
  {
   "cell_type": "code",
   "execution_count": 201,
   "metadata": {},
   "outputs": [
    {
     "data": {
      "image/png": "[encoded data removed]",
      "text/plain": [
       "<Figure size 432x288 with 1 Axes>"
      ]
     },
     "metadata": {
      "needs_background": "light"
     },
     "output_type": "display_data"
    }
   ],
   "source": [
    "counts_dd,bins,_ = plt.hist(dd,bins);\n",
    "counts_rr,bins,_ = plt.hist(rr,bins);"
   ]
  },
  {
   "cell_type": "code",
   "execution_count": 204,
   "metadata": {},
   "outputs": [],
   "source": [
    "xi = counts_dd/counts_rr - 1"
   ]
  },
  {
   "cell_type": "code",
   "execution_count": 205,
   "metadata": {
    "scrolled": true
   },
   "outputs": [
    {
     "data": {
      "text/plain": [
       "Text(0,0.5,'$\\\\xi(r)$')"
      ]
     },
     "execution_count": 205,
     "metadata": {},
     "output_type": "execute_result"
    },
    {
     "data": {
      "image/png": "[encoded data removed]",
      "text/plain": [
       "<Figure size 432x288 with 1 Axes>"
      ]
     },
     "metadata": {
      "needs_background": "light"
     },
     "output_type": "display_data"
    }
   ],
   "source": [
    "plt.plot(bincenters,xi)\n",
    "plt.yscale('log')\n",
    "plt.xlabel('r')\n",
    "plt.ylabel('$\\\\xi(r)$')"
   ]
  },
  {
   "cell_type": "markdown",
   "metadata": {},
   "source": [
    "# test"
   ]
  },
  {
   "cell_type": "code",
   "execution_count": 206,
   "metadata": {},
   "outputs": [],
   "source": [
    "import halotools.mock_observables"
   ]
  },
  {
   "cell_type": "code",
   "execution_count": 207,
   "metadata": {},
   "outputs": [],
   "source": [
    "xyz_r = np.vstack((xr,yr,zr)).T"
   ]
  },
  {
   "cell_type": "code",
   "execution_count": 208,
   "metadata": {},
   "outputs": [
    {
     "data": {
      "text/plain": [
       "(4530, 3)"
      ]
     },
     "execution_count": 208,
     "metadata": {},
     "output_type": "execute_result"
    }
   ],
   "source": [
    "xyz_r.shape"
   ]
  },
  {
   "cell_type": "code",
   "execution_count": 216,
   "metadata": {},
   "outputs": [],
   "source": [
    "corr=  halotools.mock_observables.tpcf(xyz_13, bins,randoms = xyz_r, period=205, estimator='Natural')\n",
    "corr2 =  halotools.mock_observables.tpcf(xyz_13, bins, period=205, estimator='Natural')"
   ]
  },
  {
   "cell_type": "code",
   "execution_count": 280,
   "metadata": {},
   "outputs": [
    {
     "data": {
      "image/png": "[encoded data removed]",
      "text/plain": [
       "<Figure size 432x288 with 1 Axes>"
      ]
     },
     "metadata": {
      "needs_background": "light"
     },
     "output_type": "display_data"
    }
   ],
   "source": [
    "plt.plot(bincenters,corr,label='halotools')\n",
    "plt.plot(bincenters,xi,label='natural')\n",
    "#plt.plot(bincenters,corr2,label='halotools(analythic random)')\n",
    "\n",
    "#plt.yscale('log')\n",
    "#plt.plot(bincenters,xi,label='natural')\n",
    "#plt.yscale('log')\n",
    "plt.legend(loc=0)\n",
    "plt.ylabel('$\\\\xi(r)$')\n",
    "plt.xlabel('r(mpc/h)')\n",
    "plt.savefig('test_correlation.jpg')"
   ]
  },
  {
   "cell_type": "code",
   "execution_count": 281,
   "metadata": {},
   "outputs": [
    {
     "data": {
      "image/png": "[encoded data removed]",
      "text/plain": [
       "<Figure size 432x288 with 1 Axes>"
      ]
     },
     "metadata": {
      "needs_background": "light"
     },
     "output_type": "display_data"
    }
   ],
   "source": [
    "plt.plot(bincenters,xi,label='natural')\n",
    "plt.plot(bincenters,corr2,label='halotools(analythic random)')\n",
    "#plt.yscale('log')\n",
    "#plt.plot(bincenters,xi,label='natural')\n",
    "#plt.yscale('log')\n",
    "plt.legend(loc=0)\n",
    "plt.ylabel('$\\\\xi(r)$')\n",
    "plt.xlabel('r(mpc/h)')\n",
    "plt.savefig('test_correlation2.jpg')"
   ]
  },
  {
   "cell_type": "code",
   "execution_count": null,
   "metadata": {},
   "outputs": [],
   "source": []
  }
 ],
 "metadata": {
  "kernelspec": {
   "display_name": "Python 3",
   "language": "python",
   "name": "python3"
  },
  "language_info": {
   "codemirror_mode": {
    "name": "ipython",
    "version": 3
   },
   "file_extension": ".py",
   "mimetype": "text/x-python",
   "name": "python",
   "nbconvert_exporter": "python",
   "pygments_lexer": "ipython3",
   "version": "3.7.0"
  }
 },
 "nbformat": 4,
 "nbformat_minor": 2
}
